{
 "cells": [
  {
   "cell_type": "markdown",
   "metadata": {},
   "source": [
    "## API consulta CEP"
   ]
  },
  {
   "cell_type": "code",
   "execution_count": 142,
   "metadata": {},
   "outputs": [],
   "source": [
    "#Biblioteca\n",
    "import requests "
   ]
  },
  {
   "cell_type": "code",
   "execution_count": 143,
   "metadata": {},
   "outputs": [
    {
     "name": "stdout",
     "output_type": "stream",
     "text": [
      "{'cep': '71930750', 'address_type': 'Quadra', 'address_name': '209', 'address': 'Quadra 209', 'state': 'DF', 'district': 'Sul ', 'lat': '-15.79318', 'lng': '-47.91096', 'city': 'Brasília', 'city_ibge': '5300108', 'ddd': '61'}\n"
     ]
    }
   ],
   "source": [
    "# Link da API de consulta CEP\n",
    "\n",
    "####    https://docs.awesomeapi.com.br/api-cep  ####\n",
    " \n",
    "#Copia o link da pagina de api-CEP\n",
    "###   https://cep.awesomeapi.com.br/json/digite o cep  \n",
    "link = f'https://cep.awesomeapi.com.br/json/71930750'\n",
    "\n",
    "requisicao = requests.get(link)\n",
    "resposta = requisicao.json()\n",
    "\n",
    "cidade = resposta['city']\n",
    "Uf = resposta['state']\n",
    "DDD = resposta['ddd']\n",
    "bairro = resposta['district']\n",
    "\n",
    "\n",
    "print(requisicao.json())"
   ]
  },
  {
   "cell_type": "code",
   "execution_count": 144,
   "metadata": {},
   "outputs": [
    {
     "name": "stdout",
     "output_type": "stream",
     "text": [
      "Brasília DF 61 Sul \n"
     ]
    }
   ],
   "source": [
    "# Link da API de consulta CEP               UTILIZANDO UM IMPUT\n",
    "# \n",
    "#Copia o link da pagina de api-CEP\n",
    "###   https://cep.awesomeapi.com.br/json/05424020  \n",
    "\n",
    "entrada_usuario = input(\"Digite o CEP: \")\n",
    "\n",
    "cep = entrada_usuario\n",
    "\n",
    "link = f'https://cep.awesomeapi.com.br/json/{cep}'\n",
    "\n",
    "requisicao = requests.get(link)\n",
    "resposta = requisicao.json()\n",
    "\n",
    "cidade = resposta['city']\n",
    "Uf = resposta['state']\n",
    "DDD = resposta['ddd']\n",
    "bairro = resposta['district']\n",
    "\n",
    "\n",
    "print(cidade, Uf, DDD, bairro)"
   ]
  },
  {
   "cell_type": "code",
   "execution_count": 145,
   "metadata": {},
   "outputs": [
    {
     "name": "stdout",
     "output_type": "stream",
     "text": [
      "['71930750', '22763585', '21831449', '00000000', '24110706', '23821110', '123', '456', '01001000', '02020020', '03030030', '06060060', '07070070', '08080080', '09090090']\n"
     ]
    }
   ],
   "source": [
    "#Ler o arquivo txt com os CEPS\n",
    "\n",
    "with open (\"ceps.txt\", \"r\") as arquivo:\n",
    "    ceps = arquivo.read()\n",
    "ceps = ceps.split(\"\\n\")\n",
    "\n",
    "print(ceps)"
   ]
  },
  {
   "cell_type": "code",
   "execution_count": 147,
   "metadata": {},
   "outputs": [
    {
     "name": "stdout",
     "output_type": "stream",
     "text": [
      "['71930750', '22763585', '21831449', '24110706', '23821110', '01001000', '02020020', '03030030', '06060060', '07070070', '08080080', '09090090']\n"
     ]
    },
    {
     "name": "stderr",
     "output_type": "stream",
     "text": [
      "100%|██████████| 12/12 [00:06<00:00,  1.95it/s]"
     ]
    },
    {
     "name": "stdout",
     "output_type": "stream",
     "text": [
      "[('Brasília', 'DF', '61', 'Sul '), ('Rio de Janeiro', 'RJ', '21', 'Cidade de Deus'), ('Rio de Janeiro', 'RJ', '21', 'Senador Camará'), ('Niterói', 'RJ', '21', 'Tenente Jardim'), ('Itaguaí', 'RJ', '21', 'Vila Margarida'), ('São Paulo', 'SP', '11', 'Sé'), ('São Paulo', 'SP', '11', 'Santana'), ('São Paulo', 'SP', '11', 'Canindé'), ('Osasco', 'SP', '11', 'Bela Vista'), ('Guarulhos', 'SP', '11', 'Vila Rosália'), ('São Paulo', 'SP', '11', 'Parque Paulistano'), ('Santo André', 'SP', '11', 'Jardim')]\n"
     ]
    },
    {
     "name": "stderr",
     "output_type": "stream",
     "text": [
      "\n"
     ]
    }
   ],
   "source": [
    "##  Completo  incluindo o tqdm  ##\n",
    "\n",
    "#Ler o arquivo txt com os CEPS certos\n",
    "# e pesquisar na API\n",
    "\n",
    "with open (\"ceps_todos_ok.txt\", \"r\") as arquivo:\n",
    "    ceps = arquivo.read()\n",
    "ceps = ceps.split(\"\\n\")\n",
    "\n",
    "print(ceps)\n",
    "\n",
    "enderecos_entrega =[]\n",
    "\n",
    "for cep in tqdm(ceps):\n",
    "    link = f'https://cep.awesomeapi.com.br/json/{cep}'\n",
    "\n",
    "    requisicao = requests.get(link)\n",
    "    resposta = requisicao.json()\n",
    "\n",
    "    cidade = resposta['city']\n",
    "    Uf = resposta['state']\n",
    "    DDD = resposta['ddd']\n",
    "    bairro = resposta['district']\n",
    "\n",
    "    enderecos_entrega.append((cidade,Uf,DDD,bairro))\n",
    "\n",
    "print(enderecos_entrega)\n"
   ]
  },
  {
   "cell_type": "code",
   "execution_count": 148,
   "metadata": {},
   "outputs": [
    {
     "data": {
      "text/plain": [
       "[('Brasília', 'DF', '61', 'Sul '),\n",
       " ('Rio de Janeiro', 'RJ', '21', 'Cidade de Deus'),\n",
       " ('Rio de Janeiro', 'RJ', '21', 'Senador Camará'),\n",
       " ('Niterói', 'RJ', '21', 'Tenente Jardim'),\n",
       " ('Itaguaí', 'RJ', '21', 'Vila Margarida'),\n",
       " ('São Paulo', 'SP', '11', 'Sé'),\n",
       " ('São Paulo', 'SP', '11', 'Santana'),\n",
       " ('São Paulo', 'SP', '11', 'Canindé'),\n",
       " ('Osasco', 'SP', '11', 'Bela Vista'),\n",
       " ('Guarulhos', 'SP', '11', 'Vila Rosália'),\n",
       " ('São Paulo', 'SP', '11', 'Parque Paulistano'),\n",
       " ('Santo André', 'SP', '11', 'Jardim')]"
      ]
     },
     "metadata": {},
     "output_type": "display_data"
    }
   ],
   "source": [
    "\n",
    "display(enderecos_entrega)\n"
   ]
  },
  {
   "cell_type": "code",
   "execution_count": 149,
   "metadata": {},
   "outputs": [
    {
     "name": "stdout",
     "output_type": "stream",
     "text": [
      "{'code': 'invalid', 'message': 'CEP invalido, tente: 00000000'}\n",
      "CEP invalido, tente: 00000000\n",
      "invalid\n"
     ]
    }
   ],
   "source": [
    "### CEP invalido ou não encontrado\n",
    "\n",
    "\n",
    "# Link da API de consulta CEP               UTILIZANDO UM IMPUT\n",
    "\n",
    "#exemplo 00000000   Não encontrado\n",
    "#exemplo 0123456    invalido\n",
    "\n",
    "#Copia o link da pagina de api-CEP\n",
    "###   https://cep.awesomeapi.com.br/json/05424020  \n",
    "\n",
    "entrada_usuario = input(\"Digite o CEP: \")\n",
    "\n",
    "cep = entrada_usuario\n",
    "\n",
    "link = f'https://cep.awesomeapi.com.br/json/{cep}'\n",
    "\n",
    "requisicao = requests.get(link)\n",
    "resposta = requisicao.json()\n",
    "\n",
    "mensagem = resposta['message']\n",
    "codigo_do_status = resposta['code']\n",
    "\n",
    "#cidade = resposta['city']\n",
    "#Uf = resposta['state']\n",
    "#DDD = resposta['ddd']\n",
    "#bairro = resposta['district']\n",
    "print(requisicao.json())\n",
    "\n",
    "print(mensagem)\n",
    "print(codigo_do_status)"
   ]
  },
  {
   "cell_type": "code",
   "execution_count": 153,
   "metadata": {},
   "outputs": [
    {
     "name": "stdout",
     "output_type": "stream",
     "text": [
      "['71930750', '22763585', '21831449', '00000000', '24110706', '23821110', '123', '456', '01001000', '02020020', '03030030', '06060060', '07070070', '08080080', '09090090']\n"
     ]
    },
    {
     "name": "stderr",
     "output_type": "stream",
     "text": [
      " 27%|██▋       | 4/15 [00:02<00:05,  1.87it/s]"
     ]
    },
    {
     "name": "stdout",
     "output_type": "stream",
     "text": [
      "não localizado o cep: O CEP 00000000 nao foi encontrado\n"
     ]
    },
    {
     "name": "stderr",
     "output_type": "stream",
     "text": [
      " 47%|████▋     | 7/15 [00:03<00:04,  1.82it/s]"
     ]
    },
    {
     "name": "stdout",
     "output_type": "stream",
     "text": [
      "não localizado o cep: CEP invalido, tente: 00000000\n"
     ]
    },
    {
     "name": "stderr",
     "output_type": "stream",
     "text": [
      " 53%|█████▎    | 8/15 [00:04<00:03,  1.83it/s]"
     ]
    },
    {
     "name": "stdout",
     "output_type": "stream",
     "text": [
      "não localizado o cep: CEP invalido, tente: 00000000\n"
     ]
    },
    {
     "name": "stderr",
     "output_type": "stream",
     "text": [
      "100%|██████████| 15/15 [00:08<00:00,  1.85it/s]"
     ]
    },
    {
     "name": "stdout",
     "output_type": "stream",
     "text": [
      "[('Brasília', 'DF', '61', 'Sul '), ('Rio de Janeiro', 'RJ', '21', 'Cidade de Deus'), ('Rio de Janeiro', 'RJ', '21', 'Senador Camará'), ('Niterói', 'RJ', '21', 'Tenente Jardim'), ('Itaguaí', 'RJ', '21', 'Vila Margarida'), ('São Paulo', 'SP', '11', 'Sé'), ('São Paulo', 'SP', '11', 'Santana'), ('São Paulo', 'SP', '11', 'Canindé'), ('Osasco', 'SP', '11', 'Bela Vista'), ('Guarulhos', 'SP', '11', 'Vila Rosália'), ('São Paulo', 'SP', '11', 'Parque Paulistano'), ('Santo André', 'SP', '11', 'Jardim')]\n"
     ]
    },
    {
     "name": "stderr",
     "output_type": "stream",
     "text": [
      "\n"
     ]
    },
    {
     "data": {
      "text/plain": [
       "[('Brasília', 'DF', '61', 'Sul '),\n",
       " ('Rio de Janeiro', 'RJ', '21', 'Cidade de Deus'),\n",
       " ('Rio de Janeiro', 'RJ', '21', 'Senador Camará'),\n",
       " ('Niterói', 'RJ', '21', 'Tenente Jardim'),\n",
       " ('Itaguaí', 'RJ', '21', 'Vila Margarida'),\n",
       " ('São Paulo', 'SP', '11', 'Sé'),\n",
       " ('São Paulo', 'SP', '11', 'Santana'),\n",
       " ('São Paulo', 'SP', '11', 'Canindé'),\n",
       " ('Osasco', 'SP', '11', 'Bela Vista'),\n",
       " ('Guarulhos', 'SP', '11', 'Vila Rosália'),\n",
       " ('São Paulo', 'SP', '11', 'Parque Paulistano'),\n",
       " ('Santo André', 'SP', '11', 'Jardim')]"
      ]
     },
     "metadata": {},
     "output_type": "display_data"
    }
   ],
   "source": [
    "## Super Completo  incluindo o tqdm, codigos existentes e inválidos  ##\n",
    "\n",
    "#Ler o arquivo txt com os CEPS\n",
    "# e pesquisar na API\n",
    "\n",
    "with open (\"ceps.txt\", \"r\") as arquivo:\n",
    "    ceps = arquivo.read()\n",
    "ceps = ceps.split(\"\\n\")\n",
    "\n",
    "print(ceps)\n",
    "\n",
    "enderecos_entrega =[]\n",
    "\n",
    "for cep in tqdm(ceps):\n",
    "    link = f'https://cep.awesomeapi.com.br/json/{cep}'\n",
    "\n",
    "\n",
    "    requisicao = requests.get(link)\n",
    "    resposta = requisicao.json()\n",
    "\n",
    "\n",
    "    try:\n",
    "        \n",
    "        mensagem = resposta['message']\n",
    "        codigo_do_status = resposta['code']\n",
    "\n",
    "        print(f'não localizado o cep: {mensagem}')\n",
    "\n",
    "    except KeyError:\n",
    "\n",
    "        cidade = resposta['city']\n",
    "        Uf = resposta['state']\n",
    "        DDD = resposta['ddd']\n",
    "        bairro = resposta['district']\n",
    "\n",
    "        enderecos_entrega.append((cidade,Uf,DDD,bairro))\n",
    "\n",
    "print(enderecos_entrega)\n",
    "display(enderecos_entrega)"
   ]
  }
 ],
 "metadata": {
  "kernelspec": {
   "display_name": "Python 3",
   "language": "python",
   "name": "python3"
  },
  "language_info": {
   "codemirror_mode": {
    "name": "ipython",
    "version": 3
   },
   "file_extension": ".py",
   "mimetype": "text/x-python",
   "name": "python",
   "nbconvert_exporter": "python",
   "pygments_lexer": "ipython3",
   "version": "3.11.9"
  }
 },
 "nbformat": 4,
 "nbformat_minor": 2
}
